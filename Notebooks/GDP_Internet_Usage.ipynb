{
 "cells": [
  {
   "cell_type": "code",
   "execution_count": 1,
   "id": "00f78ed2",
   "metadata": {},
   "outputs": [],
   "source": [
    "import pandas as pd\n",
    "import numpy as np\n",
    "import matplotlib.pyplot as plt\n",
    "import seaborn as sns"
   ]
  },
  {
   "cell_type": "code",
   "execution_count": 2,
   "id": "93546e58",
   "metadata": {},
   "outputs": [],
   "source": [
    "%matplotlib inline"
   ]
  },
  {
   "cell_type": "code",
   "execution_count": 3,
   "id": "3050e878",
   "metadata": {},
   "outputs": [
    {
     "name": "stdout",
     "output_type": "stream",
     "text": [
      "  Country or Area  Year        Value  Value Footnotes\n",
      "0     Afghanistan  2019  2065.036398              NaN\n",
      "1     Afghanistan  2018  2033.779002              NaN\n",
      "2     Afghanistan  2017  2058.383832              NaN\n",
      "3     Afghanistan  2016  2057.062164              NaN\n",
      "4     Afghanistan  2015  2068.265904              NaN\n",
      "5     Afghanistan  2014  2102.385234              NaN\n",
      "6     Afghanistan  2013  2116.465454              NaN\n"
     ]
    }
   ],
   "source": [
    "gdp_df = pd.read_csv(\"../Data/gdp_percapita.csv\", nrows=6868)\n",
    "print(gdp_df[:7])"
   ]
  },
  {
   "cell_type": "code",
   "execution_count": 4,
   "id": "677808e9",
   "metadata": {},
   "outputs": [
    {
     "name": "stdout",
     "output_type": "stream",
     "text": [
      "  Country or Area  Year        Value  Value Footnotes\n",
      "0     Afghanistan  2019  2065.036398              NaN\n",
      "1     Afghanistan  2018  2033.779002              NaN\n",
      "2     Afghanistan  2017  2058.383832              NaN\n",
      "3     Afghanistan  2016  2057.062164              NaN\n",
      "4     Afghanistan  2015  2068.265904              NaN\n",
      "5     Afghanistan  2014  2102.385234              NaN\n",
      "6     Afghanistan  2013  2116.465454              NaN\n"
     ]
    }
   ],
   "source": [
    "internet_df = pd.read_csv(\"../Data/internet_use.csv\", nrows=4495)\n",
    "print(gdp_df[:7])"
   ]
  },
  {
   "cell_type": "markdown",
   "id": "43573225",
   "metadata": {},
   "source": [
    "### 7. Look at the shape of each DataFrame - how many rows? How many columns?\n",
    " There are 6869 rows and 4 columns in GDP \n",
    " \n",
    " There are 4496 rows and 4 columns in Internet"
   ]
  },
  {
   "cell_type": "code",
   "execution_count": 5,
   "id": "7798105e",
   "metadata": {},
   "outputs": [
    {
     "name": "stdout",
     "output_type": "stream",
     "text": [
      "     Country or Area  Year        Value  Value Footnotes\n",
      "0        Afghanistan  2019  2065.036398              NaN\n",
      "1        Afghanistan  2018  2033.779002              NaN\n",
      "2        Afghanistan  2017  2058.383832              NaN\n",
      "3        Afghanistan  2016  2057.062164              NaN\n",
      "4        Afghanistan  2015  2068.265904              NaN\n",
      "...              ...   ...          ...              ...\n",
      "6863        Zimbabwe  1994  3263.934978              NaN\n",
      "6864        Zimbabwe  1993  3033.504852              NaN\n",
      "6865        Zimbabwe  1992  3054.889178              NaN\n",
      "6866        Zimbabwe  1991  3426.598094              NaN\n",
      "6867        Zimbabwe  1990  3324.348171              NaN\n",
      "\n",
      "[6868 rows x 4 columns]\n"
     ]
    }
   ],
   "source": [
    "gdp_df.shape\n",
    "print(gdp_df[:])"
   ]
  },
  {
   "cell_type": "code",
   "execution_count": 6,
   "id": "feebcba6",
   "metadata": {},
   "outputs": [
    {
     "name": "stdout",
     "output_type": "stream",
     "text": [
      "     Country or Area  Year     Value  Value Footnotes\n",
      "0        Afghanistan  2014  6.390000              NaN\n",
      "1        Afghanistan  2013  5.900000              NaN\n",
      "2        Afghanistan  2012  5.454545              NaN\n",
      "3        Afghanistan  2011  5.000000              NaN\n",
      "4        Afghanistan  2010  4.000000              NaN\n",
      "...              ...   ...       ...              ...\n",
      "4490        Zimbabwe  1997  0.033080              NaN\n",
      "4491        Zimbabwe  1996  0.016790              NaN\n",
      "4492        Zimbabwe  1995  0.007684              NaN\n",
      "4493        Zimbabwe  1994  0.001739              NaN\n",
      "4494        Zimbabwe  1990  0.000000              NaN\n",
      "\n",
      "[4495 rows x 4 columns]\n"
     ]
    }
   ],
   "source": [
    "internet_df.shape\n",
    "print(internet_df [:])"
   ]
  },
  {
   "cell_type": "markdown",
   "id": "8c251cb7",
   "metadata": {},
   "source": [
    "### 8. Take a look at the datatypes for the columns in each DataFrame."
   ]
  },
  {
   "cell_type": "code",
   "execution_count": 7,
   "id": "60ca9b52",
   "metadata": {},
   "outputs": [
    {
     "name": "stdout",
     "output_type": "stream",
     "text": [
      "Country or Area     object\n",
      "Year                 int64\n",
      "Value              float64\n",
      "Value Footnotes    float64\n",
      "dtype: object\n"
     ]
    }
   ],
   "source": [
    "print(gdp_df.dtypes)"
   ]
  },
  {
   "cell_type": "code",
   "execution_count": 8,
   "id": "49027bbf",
   "metadata": {},
   "outputs": [
    {
     "name": "stdout",
     "output_type": "stream",
     "text": [
      "Country or Area     object\n",
      "Year                 int64\n",
      "Value              float64\n",
      "Value Footnotes    float64\n",
      "dtype: object\n"
     ]
    }
   ],
   "source": [
    "print(internet_df.dtypes)"
   ]
  },
  {
   "cell_type": "markdown",
   "id": "04291c06",
   "metadata": {},
   "source": [
    "### 9. Take a look at the last 10 rows of each DataFrame in turn."
   ]
  },
  {
   "cell_type": "code",
   "execution_count": 9,
   "id": "5a0e6c70",
   "metadata": {},
   "outputs": [
    {
     "name": "stdout",
     "output_type": "stream",
     "text": [
      "     Country or Area  Year        Value  Value Footnotes\n",
      "6858        Zimbabwe  1999  3600.849291              NaN\n",
      "6859        Zimbabwe  1998  3653.920016              NaN\n",
      "6860        Zimbabwe  1997  3580.048793              NaN\n",
      "6861        Zimbabwe  1996  3520.430146              NaN\n",
      "6862        Zimbabwe  1995  3226.413930              NaN\n",
      "6863        Zimbabwe  1994  3263.934978              NaN\n",
      "6864        Zimbabwe  1993  3033.504852              NaN\n",
      "6865        Zimbabwe  1992  3054.889178              NaN\n",
      "6866        Zimbabwe  1991  3426.598094              NaN\n",
      "6867        Zimbabwe  1990  3324.348171              NaN\n"
     ]
    }
   ],
   "source": [
    "print(gdp_df[-10:])"
   ]
  },
  {
   "cell_type": "code",
   "execution_count": 10,
   "id": "bafe16e8",
   "metadata": {},
   "outputs": [
    {
     "name": "stdout",
     "output_type": "stream",
     "text": [
      "     Country or Area  Year     Value  Value Footnotes\n",
      "4485        Zimbabwe  2002  3.994356              NaN\n",
      "4486        Zimbabwe  2001  0.799846              NaN\n",
      "4487        Zimbabwe  2000  0.401434              NaN\n",
      "4488        Zimbabwe  1999  0.161676              NaN\n",
      "4489        Zimbabwe  1998  0.081648              NaN\n",
      "4490        Zimbabwe  1997  0.033080              NaN\n",
      "4491        Zimbabwe  1996  0.016790              NaN\n",
      "4492        Zimbabwe  1995  0.007684              NaN\n",
      "4493        Zimbabwe  1994  0.001739              NaN\n",
      "4494        Zimbabwe  1990  0.000000              NaN\n"
     ]
    }
   ],
   "source": [
    "print(internet_df[-10:])"
   ]
  },
  {
   "cell_type": "markdown",
   "id": "c43fe8cf",
   "metadata": {},
   "source": [
    "### 10.Drop the value footnotes column from both DataFrames. Check that this worked as expected."
   ]
  },
  {
   "cell_type": "code",
   "execution_count": 11,
   "id": "51a467a4",
   "metadata": {},
   "outputs": [
    {
     "name": "stdout",
     "output_type": "stream",
     "text": [
      "     Country or Area  Year        Value\n",
      "0        Afghanistan  2019  2065.036398\n",
      "1        Afghanistan  2018  2033.779002\n",
      "2        Afghanistan  2017  2058.383832\n",
      "3        Afghanistan  2016  2057.062164\n",
      "4        Afghanistan  2015  2068.265904\n",
      "...              ...   ...          ...\n",
      "6863        Zimbabwe  1994  3263.934978\n",
      "6864        Zimbabwe  1993  3033.504852\n",
      "6865        Zimbabwe  1992  3054.889178\n",
      "6866        Zimbabwe  1991  3426.598094\n",
      "6867        Zimbabwe  1990  3324.348171\n",
      "\n",
      "[6868 rows x 3 columns]\n"
     ]
    }
   ],
   "source": [
    "del gdp_df['Value Footnotes']\n",
    "print(gdp_df)"
   ]
  },
  {
   "cell_type": "code",
   "execution_count": 12,
   "id": "11ec9d5c",
   "metadata": {},
   "outputs": [
    {
     "name": "stdout",
     "output_type": "stream",
     "text": [
      "     Country or Area  Year     Value\n",
      "0        Afghanistan  2014  6.390000\n",
      "1        Afghanistan  2013  5.900000\n",
      "2        Afghanistan  2012  5.454545\n",
      "3        Afghanistan  2011  5.000000\n",
      "4        Afghanistan  2010  4.000000\n",
      "...              ...   ...       ...\n",
      "4490        Zimbabwe  1997  0.033080\n",
      "4491        Zimbabwe  1996  0.016790\n",
      "4492        Zimbabwe  1995  0.007684\n",
      "4493        Zimbabwe  1994  0.001739\n",
      "4494        Zimbabwe  1990  0.000000\n",
      "\n",
      "[4495 rows x 3 columns]\n"
     ]
    }
   ],
   "source": [
    "del internet_df['Value Footnotes']\n",
    "print(internet_df)"
   ]
  },
  {
   "cell_type": "markdown",
   "id": "fbfd21cd",
   "metadata": {},
   "source": [
    "### 11. Change the columns for the GDP Per Capita DataFrame to ‘Country’, ‘Year’, and ‘GDP_Per_Capita’."
   ]
  },
  {
   "cell_type": "code",
   "execution_count": 13,
   "id": "ea4f843f",
   "metadata": {},
   "outputs": [
    {
     "name": "stdout",
     "output_type": "stream",
     "text": [
      "          Country  Year  GDP_Per_Capita\n",
      "0     Afghanistan  2019     2065.036398\n",
      "1     Afghanistan  2018     2033.779002\n",
      "2     Afghanistan  2017     2058.383832\n",
      "3     Afghanistan  2016     2057.062164\n",
      "4     Afghanistan  2015     2068.265904\n",
      "...           ...   ...             ...\n",
      "6863     Zimbabwe  1994     3263.934978\n",
      "6864     Zimbabwe  1993     3033.504852\n",
      "6865     Zimbabwe  1992     3054.889178\n",
      "6866     Zimbabwe  1991     3426.598094\n",
      "6867     Zimbabwe  1990     3324.348171\n",
      "\n",
      "[6868 rows x 3 columns]\n"
     ]
    }
   ],
   "source": [
    "gdp_df.columns = ['Country','Year', 'GDP_Per_Capita']\n",
    "print(gdp_df)"
   ]
  },
  {
   "cell_type": "markdown",
   "id": "74ced247",
   "metadata": {},
   "source": [
    "### 12. Change the columns for the Internet Users DataFrame to ‘Country’, ‘Year’, and ‘Internet_Users_Pct’."
   ]
  },
  {
   "cell_type": "code",
   "execution_count": 14,
   "id": "f83415f9",
   "metadata": {},
   "outputs": [
    {
     "name": "stdout",
     "output_type": "stream",
     "text": [
      "          Country  Year  internet_Users_Pct\n",
      "0     Afghanistan  2014            6.390000\n",
      "1     Afghanistan  2013            5.900000\n",
      "2     Afghanistan  2012            5.454545\n",
      "3     Afghanistan  2011            5.000000\n",
      "4     Afghanistan  2010            4.000000\n",
      "...           ...   ...                 ...\n",
      "4490     Zimbabwe  1997            0.033080\n",
      "4491     Zimbabwe  1996            0.016790\n",
      "4492     Zimbabwe  1995            0.007684\n",
      "4493     Zimbabwe  1994            0.001739\n",
      "4494     Zimbabwe  1990            0.000000\n",
      "\n",
      "[4495 rows x 3 columns]\n"
     ]
    }
   ],
   "source": [
    "internet_df.columns = ['Country', 'Year','internet_Users_Pct']\n",
    "print(internet_df)"
   ]
  },
  {
   "cell_type": "markdown",
   "id": "08f72b8b",
   "metadata": {},
   "source": [
    "### 13. Merge the two DataFrames to one. Merge all rows from each of the two DataFrames. Call the new DataFrame gdp_and_internet_use."
   ]
  },
  {
   "cell_type": "code",
   "execution_count": 15,
   "id": "7aa6c4d2",
   "metadata": {},
   "outputs": [
    {
     "name": "stdout",
     "output_type": "stream",
     "text": [
      "          Country  Year  internet_Users_Pct  GDP_Per_Capita\n",
      "0     Afghanistan  2014            6.390000     2102.385234\n",
      "1     Afghanistan  2013            5.900000     2116.465454\n",
      "2     Afghanistan  2012            5.454545     2075.491747\n",
      "3     Afghanistan  2011            5.000000     1904.559799\n",
      "4     Afghanistan  2010            4.000000     1957.029338\n",
      "...           ...   ...                 ...             ...\n",
      "7900     Zimbabwe  2016                 NaN     2934.733650\n",
      "7901     Zimbabwe  2015                 NaN     2958.209004\n",
      "7902     Zimbabwe  1993                 NaN     3033.504852\n",
      "7903     Zimbabwe  1992                 NaN     3054.889178\n",
      "7904     Zimbabwe  1991                 NaN     3426.598094\n",
      "\n",
      "[7905 rows x 4 columns]\n"
     ]
    }
   ],
   "source": [
    "outer_merged = pd.merge(internet_df, gdp_df, how=\"outer\", on=[\"Country\", \"Year\"])\n",
    "outer_merged.head()\n",
    "outer_merged.shape\n",
    "print(outer_merged)"
   ]
  },
  {
   "cell_type": "markdown",
   "id": "a9731774",
   "metadata": {},
   "source": [
    "### left off on 13. I dont think there should be NANs"
   ]
  },
  {
   "cell_type": "markdown",
   "id": "23b413a8",
   "metadata": {},
   "source": [
    "### 14. Look at the first five rows of your new DataFrame to confirm it merged correctly."
   ]
  },
  {
   "cell_type": "code",
   "execution_count": 16,
   "id": "3b2dd7b1",
   "metadata": {},
   "outputs": [
    {
     "name": "stdout",
     "output_type": "stream",
     "text": [
      "          Country  Year  internet_Users_Pct  GDP_Per_Capita\n",
      "5     Afghanistan  2009            3.550000     1758.904043\n",
      "6     Afghanistan  2008            1.840000     1484.114729\n",
      "7     Afghanistan  2007            1.900000     1460.826075\n",
      "8     Afghanistan  2006            2.107124     1315.789565\n",
      "9     Afghanistan  2005            1.224148     1286.793508\n",
      "...           ...   ...                 ...             ...\n",
      "7900     Zimbabwe  2016                 NaN     2934.733650\n",
      "7901     Zimbabwe  2015                 NaN     2958.209004\n",
      "7902     Zimbabwe  1993                 NaN     3033.504852\n",
      "7903     Zimbabwe  1992                 NaN     3054.889178\n",
      "7904     Zimbabwe  1991                 NaN     3426.598094\n",
      "\n",
      "[7900 rows x 4 columns]\n"
     ]
    }
   ],
   "source": [
    "print(outer_merged[5:])"
   ]
  },
  {
   "cell_type": "markdown",
   "id": "ffc63fe3",
   "metadata": {},
   "source": [
    "### 15. Look at the last five rows to make sure the data is clean and as expected."
   ]
  },
  {
   "cell_type": "code",
   "execution_count": 17,
   "id": "4e1c4c28",
   "metadata": {},
   "outputs": [
    {
     "name": "stdout",
     "output_type": "stream",
     "text": [
      "       Country  Year  internet_Users_Pct  GDP_Per_Capita\n",
      "7900  Zimbabwe  2016                 NaN     2934.733650\n",
      "7901  Zimbabwe  2015                 NaN     2958.209004\n",
      "7902  Zimbabwe  1993                 NaN     3033.504852\n",
      "7903  Zimbabwe  1992                 NaN     3054.889178\n",
      "7904  Zimbabwe  1991                 NaN     3426.598094\n"
     ]
    }
   ],
   "source": [
    "print(outer_merged[-5:])"
   ]
  },
  {
   "cell_type": "markdown",
   "id": "f946399e",
   "metadata": {},
   "source": [
    "### 16. Subset the combined DataFrame to keep only the data for 2004, 2009, and 2014. Check that this happened correctly."
   ]
  },
  {
   "cell_type": "code",
   "execution_count": 18,
   "id": "d63fd7d2",
   "metadata": {},
   "outputs": [
    {
     "name": "stdout",
     "output_type": "stream",
     "text": [
      "                 Country  Year  internet_Users_Pct  GDP_Per_Capita\n",
      "0            Afghanistan  2014            6.390000     2102.385234\n",
      "5            Afghanistan  2009            3.550000     1758.904043\n",
      "10           Afghanistan  2004            0.105809     1200.278256\n",
      "15               Albania  2014           60.100000    11623.866679\n",
      "20               Albania  2009           41.200000    10346.864199\n",
      "...                  ...   ...                 ...             ...\n",
      "7843  West Bank and Gaza  2009                 NaN     5250.116075\n",
      "7848  West Bank and Gaza  2004                 NaN     4485.525458\n",
      "7864               World  2014                 NaN    15189.648507\n",
      "7869               World  2009                 NaN    13396.524163\n",
      "7874               World  2004                 NaN    12077.823821\n",
      "\n",
      "[830 rows x 4 columns]\n"
     ]
    }
   ],
   "source": [
    "outer_merged_sub = outer_merged[outer_merged['Year'] .isin ([2004,2009,2014])]\n",
    "print(outer_merged_sub)"
   ]
  },
  {
   "cell_type": "markdown",
   "id": "d2510e06",
   "metadata": {},
   "source": [
    "### 17. Create three new DataFrames, one for 2004, one for 2009, and one for 2014. Give them meaningful names that aren't too long."
   ]
  },
  {
   "cell_type": "code",
   "execution_count": 22,
   "id": "dc15c75c",
   "metadata": {},
   "outputs": [
    {
     "name": "stdout",
     "output_type": "stream",
     "text": [
      "                  Country  Year  internet_Users_Pct  GDP_Per_Capita\n",
      "10            Afghanistan  2004            0.105809     1200.278256\n",
      "25                Albania  2004            2.420388     7604.838002\n",
      "46                Algeria  2004            4.634475    10058.435939\n",
      "69                Andorra  2004           26.837954             NaN\n",
      "88                 Angola  2004            0.464815     5593.241537\n",
      "...                   ...   ...                 ...             ...\n",
      "7698               Tuvalu  2004                 NaN     3336.952920\n",
      "7761  Upper middle income  2004                 NaN     8567.061394\n",
      "7818              Vietnam  2004                 NaN     3689.732423\n",
      "7848   West Bank and Gaza  2004                 NaN     4485.525458\n",
      "7874                World  2004                 NaN    12077.823821\n",
      "\n",
      "[276 rows x 4 columns]\n"
     ]
    }
   ],
   "source": [
    "df2004 = outer_merged[outer_merged['Year'] .isin ([2004])]\n",
    "print(df2004)"
   ]
  },
  {
   "cell_type": "code",
   "execution_count": 24,
   "id": "a2e13500",
   "metadata": {},
   "outputs": [
    {
     "name": "stdout",
     "output_type": "stream",
     "text": [
      "                  Country  Year  internet_Users_Pct  GDP_Per_Capita\n",
      "5             Afghanistan  2009                3.55     1758.904043\n",
      "20                Albania  2009               41.20    10346.864199\n",
      "41                Algeria  2009               11.23    10782.361398\n",
      "64                Andorra  2009               78.53             NaN\n",
      "83                 Angola  2009                6.00     7643.493749\n",
      "...                   ...   ...                 ...             ...\n",
      "7602           The Gambia  2009                 NaN     2283.183556\n",
      "7756  Upper middle income  2009                 NaN    11212.934078\n",
      "7813              Vietnam  2009                 NaN     4830.304958\n",
      "7843   West Bank and Gaza  2009                 NaN     5250.116075\n",
      "7869                World  2009                 NaN    13396.524163\n",
      "\n",
      "[277 rows x 4 columns]\n"
     ]
    }
   ],
   "source": [
    "df2009 = outer_merged[outer_merged['Year'] .isin ([2009])]\n",
    "print(df2009)"
   ]
  },
  {
   "cell_type": "code",
   "execution_count": 25,
   "id": "90302db7",
   "metadata": {},
   "outputs": [
    {
     "name": "stdout",
     "output_type": "stream",
     "text": [
      "                  Country  Year  internet_Users_Pct  GDP_Per_Capita\n",
      "0             Afghanistan  2014                6.39     2102.385234\n",
      "15                Albania  2014               60.10    11623.866679\n",
      "36                Algeria  2014               18.09    11512.705405\n",
      "59                Andorra  2014               95.90             NaN\n",
      "78                 Angola  2014               21.26     8239.828837\n",
      "...                   ...   ...                 ...             ...\n",
      "7695               Tuvalu  2014                 NaN     3450.793169\n",
      "7751  Upper middle income  2014                 NaN    14275.343977\n",
      "7808              Vietnam  2014                 NaN     6098.489609\n",
      "7838   West Bank and Gaza  2014                 NaN     5967.073437\n",
      "7864                World  2014                 NaN    15189.648507\n",
      "\n",
      "[277 rows x 4 columns]\n"
     ]
    }
   ],
   "source": [
    "df2014 = outer_merged[outer_merged['Year'] .isin ([2014])]\n",
    "print(df2014)"
   ]
  },
  {
   "cell_type": "markdown",
   "id": "d13d100c",
   "metadata": {},
   "source": [
    "### 18. Which country had the highest percentage of internet users in 2014? What was the percentage? (Try typing the first 3 letters of your DataFrame name and hitting the tab key for auto-complete options)."
   ]
  },
  {
   "cell_type": "code",
   "execution_count": 27,
   "id": "65a45771",
   "metadata": {},
   "outputs": [
    {
     "name": "stdout",
     "output_type": "stream",
     "text": [
      "Country                  Iceland\n",
      "Year                        2014\n",
      "internet_Users_Pct         98.16\n",
      "GDP_Per_Capita        49652.1495\n",
      "Name: 1866, dtype: object\n"
     ]
    }
   ],
   "source": [
    "df2014_max = df2014.loc[df2014['internet_Users_Pct'].idxmax()]\n",
    "print(df2014_max)"
   ]
  },
  {
   "cell_type": "markdown",
   "id": "c81f23a8",
   "metadata": {},
   "source": [
    "### Iceland has the highest percentage of internet users in 2014 with 98.16%"
   ]
  },
  {
   "cell_type": "markdown",
   "id": "0c194dbc",
   "metadata": {},
   "source": [
    "### here I sorted it by internet_Users_Pct just to check that the top result was indeed Iceland"
   ]
  },
  {
   "cell_type": "code",
   "execution_count": 35,
   "id": "7d4478fa",
   "metadata": {},
   "outputs": [
    {
     "name": "stdout",
     "output_type": "stream",
     "text": [
      "                  Country  Year  internet_Users_Pct  GDP_Per_Capita\n",
      "1866              Iceland  2014               98.16    49652.149500\n",
      "415               Bermuda  2014               96.80    77361.104881\n",
      "3016               Norway  2014               96.30    62589.373548\n",
      "1083              Denmark  2014               95.99    52214.537753\n",
      "59                Andorra  2014               95.90             NaN\n",
      "...                   ...   ...                 ...             ...\n",
      "7695               Tuvalu  2014                 NaN     3450.793169\n",
      "7751  Upper middle income  2014                 NaN    14275.343977\n",
      "7808              Vietnam  2014                 NaN     6098.489609\n",
      "7838   West Bank and Gaza  2014                 NaN     5967.073437\n",
      "7864                World  2014                 NaN    15189.648507\n",
      "\n",
      "[277 rows x 4 columns]\n"
     ]
    }
   ],
   "source": [
    "df2014_sort = df2014.sort_values(by = ['internet_Users_Pct'], ascending =False)\n",
    "print(df2014_sort)"
   ]
  },
  {
   "cell_type": "markdown",
   "id": "83273622",
   "metadata": {},
   "source": [
    "### 19. Which country had the lowest percentage of internet users in 2014? What was the percentage?"
   ]
  },
  {
   "cell_type": "code",
   "execution_count": 36,
   "id": "be7883df",
   "metadata": {},
   "outputs": [
    {
     "name": "stdout",
     "output_type": "stream",
     "text": [
      "Country               Dem. People's Rep. of Korea\n",
      "Year                                         2014\n",
      "internet_Users_Pct                            0.0\n",
      "GDP_Per_Capita                                NaN\n",
      "Name: 1065, dtype: object\n"
     ]
    }
   ],
   "source": [
    "df2014_min = df2014.loc[df2014['internet_Users_Pct'].idxmin()]\n",
    "print(df2014_min)"
   ]
  },
  {
   "cell_type": "markdown",
   "id": "b4c18dbd",
   "metadata": {},
   "source": [
    "### North Korea had the lowest percentage of internet users in 2014 with 0.0."
   ]
  },
  {
   "cell_type": "markdown",
   "id": "9c30e027",
   "metadata": {},
   "source": [
    "### 20. Repeat for 2004 and 2009."
   ]
  },
  {
   "cell_type": "code",
   "execution_count": 38,
   "id": "921d176d",
   "metadata": {},
   "outputs": [
    {
     "name": "stdout",
     "output_type": "stream",
     "text": [
      "Country                     Sweden\n",
      "Year                          2004\n",
      "internet_Users_Pct           83.89\n",
      "GDP_Per_Capita        44496.023401\n",
      "Name: 3835, dtype: object\n"
     ]
    }
   ],
   "source": [
    "df2004_max = df2004.loc[df2004['internet_Users_Pct'].idxmax()]\n",
    "print(df2004_max)"
   ]
  },
  {
   "cell_type": "code",
   "execution_count": 39,
   "id": "6c97e1fc",
   "metadata": {},
   "outputs": [
    {
     "name": "stdout",
     "output_type": "stream",
     "text": [
      "Country               Dem. People's Rep. of Korea\n",
      "Year                                         2004\n",
      "internet_Users_Pct                            0.0\n",
      "GDP_Per_Capita                                NaN\n",
      "Name: 1074, dtype: object\n"
     ]
    }
   ],
   "source": [
    "df2004_min = df2004.loc[df2004['internet_Users_Pct'].idxmin()]\n",
    "print(df2004_min)"
   ]
  },
  {
   "cell_type": "markdown",
   "id": "a2d75996",
   "metadata": {},
   "source": [
    "### For 2004 Sweden had the highest internet usage with 83.89 and once again North Korea had the lowest with 0.0"
   ]
  },
  {
   "cell_type": "code",
   "execution_count": 40,
   "id": "459d306a",
   "metadata": {},
   "outputs": [
    {
     "name": "stdout",
     "output_type": "stream",
     "text": [
      "Country                    Iceland\n",
      "Year                          2009\n",
      "internet_Users_Pct            93.0\n",
      "GDP_Per_Capita        48177.084123\n",
      "Name: 1871, dtype: object\n"
     ]
    }
   ],
   "source": [
    "df2009_max = df2009.loc[df2009['internet_Users_Pct'].idxmax()]\n",
    "print(df2009_max)"
   ]
  },
  {
   "cell_type": "code",
   "execution_count": 41,
   "id": "86297acb",
   "metadata": {},
   "outputs": [
    {
     "name": "stdout",
     "output_type": "stream",
     "text": [
      "Country               Dem. People's Rep. of Korea\n",
      "Year                                         2009\n",
      "internet_Users_Pct                            0.0\n",
      "GDP_Per_Capita                                NaN\n",
      "Name: 1069, dtype: object\n"
     ]
    }
   ],
   "source": [
    "df2009_min = df2009.loc[df2009['internet_Users_Pct'].idxmin()]\n",
    "print(df2009_min)"
   ]
  },
  {
   "cell_type": "markdown",
   "id": "bae57e8d",
   "metadata": {},
   "source": [
    "### For 2009 Iceland had the highest internet usage with 93.0 and again North Korea had the lowest with 0.0"
   ]
  },
  {
   "cell_type": "markdown",
   "id": "4a9ed103",
   "metadata": {},
   "source": [
    "### 21. Which country had the highest gdp per capita in 2014? What was the gdp per capita?"
   ]
  },
  {
   "cell_type": "code",
   "execution_count": 43,
   "id": "39dd4703",
   "metadata": {},
   "outputs": [
    {
     "name": "stdout",
     "output_type": "stream",
     "text": [
      "Country               Macao SAR, China\n",
      "Year                              2014\n",
      "internet_Users_Pct                 NaN\n",
      "GDP_Per_Capita            156514.13385\n",
      "Name: 6394, dtype: object\n"
     ]
    }
   ],
   "source": [
    "df2014_max_gdp = df2014.loc[df2014['GDP_Per_Capita'].idxmax()]\n",
    "print(df2014_max_gdp)"
   ]
  },
  {
   "cell_type": "markdown",
   "id": "83ac0e55",
   "metadata": {},
   "source": [
    "### China had the highest gdp per capita in 2014 with 156514.13385"
   ]
  },
  {
   "cell_type": "markdown",
   "id": "c4db4009",
   "metadata": {},
   "source": [
    "### 22. Which country had the lowest gdp per capita in 2014? What was the gdp per capita?\n"
   ]
  },
  {
   "cell_type": "code",
   "execution_count": 44,
   "id": "3d9e12bc",
   "metadata": {},
   "outputs": [
    {
     "name": "stdout",
     "output_type": "stream",
     "text": [
      "Country               Central African Republic\n",
      "Year                                      2014\n",
      "internet_Users_Pct                         NaN\n",
      "GDP_Per_Capita                      822.610458\n",
      "Name: 4906, dtype: object\n"
     ]
    }
   ],
   "source": [
    "df2014_min_gdp = df2014.loc[df2014['GDP_Per_Capita'].idxmin()]\n",
    "print(df2014_min_gdp)"
   ]
  },
  {
   "cell_type": "markdown",
   "id": "36b07f66",
   "metadata": {},
   "source": [
    "### Central African Republic had the lowest gdp in 2014 with 822.610458"
   ]
  },
  {
   "cell_type": "markdown",
   "id": "47587a2b",
   "metadata": {},
   "source": [
    "### 23. Create some scatterplots:\n",
    "a. 2004 Percent Using the Internet vs GDP Per Capita\n",
    "\n",
    "b. 2009 Percent Using the Internet vs GDP Per Capita\n",
    "\n",
    "c. 2014 Percent Using the Internet vs GDP Per Capita"
   ]
  },
  {
   "cell_type": "code",
   "execution_count": 57,
   "id": "318bf764",
   "metadata": {},
   "outputs": [
    {
     "data": {
      "image/png": "[encoded data removed]",
      "text/plain": [
       "<Figure size 432x288 with 1 Axes>"
      ]
     },
     "metadata": {
      "needs_background": "light"
     },
     "output_type": "display_data"
    }
   ],
   "source": [
    "plt.scatter(df2004.internet_Users_Pct, df2004.GDP_Per_Capita)\n",
    "plt.xlabel('GDP Per Capita')\n",
    "plt.ylabel('Internet Users')\n",
    "plt.show()"
   ]
  },
  {
   "cell_type": "markdown",
   "id": "a149c4af",
   "metadata": {},
   "source": [
    "### Scatter Plot for 2004"
   ]
  },
  {
   "cell_type": "code",
   "execution_count": 58,
   "id": "94dbe76e",
   "metadata": {},
   "outputs": [
    {
     "data": {
      "image/png": "[encoded data removed]",
      "text/plain": [
       "<Figure size 432x288 with 1 Axes>"
      ]
     },
     "metadata": {
      "needs_background": "light"
     },
     "output_type": "display_data"
    }
   ],
   "source": [
    "plt.scatter(df2009.internet_Users_Pct, df2009.GDP_Per_Capita)\n",
    "plt.xlabel('GDP Per Capita')\n",
    "plt.ylabel('Internet Users')\n",
    "plt.show()"
   ]
  },
  {
   "cell_type": "markdown",
   "id": "a18b1de3",
   "metadata": {},
   "source": [
    "### Scatter Plot for 2009"
   ]
  },
  {
   "cell_type": "code",
   "execution_count": 59,
   "id": "b7065a48",
   "metadata": {},
   "outputs": [
    {
     "data": {
      "image/png": "[encoded data removed]",
      "text/plain": [
       "<Figure size 432x288 with 1 Axes>"
      ]
     },
     "metadata": {
      "needs_background": "light"
     },
     "output_type": "display_data"
    }
   ],
   "source": [
    "plt.scatter(df2014.internet_Users_Pct, df2014.GDP_Per_Capita)\n",
    "plt.xlabel('GDP Per Capita')\n",
    "plt.ylabel('Internet Users')\n",
    "plt.show()"
   ]
  },
  {
   "cell_type": "markdown",
   "id": "f4577a75",
   "metadata": {},
   "source": [
    "### Scatter Plot for 2014"
   ]
  },
  {
   "cell_type": "markdown",
   "id": "5eaaf63a",
   "metadata": {},
   "source": [
    "### 24. Are there differences across years? What do the plots tell you about any relationship between these two variables? Enter your observations as a markdown cell."
   ]
  },
  {
   "cell_type": "markdown",
   "id": "028bf55e",
   "metadata": {},
   "source": [
    "### Internet usage generally went up as the GDP rose"
   ]
  },
  {
   "cell_type": "markdown",
   "id": "e2aa6327",
   "metadata": {},
   "source": [
    "### 25. Look at the distribution of gdp per capita values for 2014. Is it unimodal?"
   ]
  },
  {
   "cell_type": "markdown",
   "id": "0ebe9e0b",
   "metadata": {},
   "source": [
    "### I would say it is not unimodal."
   ]
  },
  {
   "cell_type": "markdown",
   "id": "7c97f3e8",
   "metadata": {},
   "source": [
    "### 26. Look at the distribution of Internet Use for 2014. Is it unimodal?"
   ]
  },
  {
   "cell_type": "markdown",
   "id": "0cd16700",
   "metadata": {},
   "source": [
    "### I would say it is not unimodal either."
   ]
  },
  {
   "cell_type": "markdown",
   "id": "a3f9e788",
   "metadata": {},
   "source": [
    "### 27. What are the top 5 countries in terms of internet use in 2014?"
   ]
  }
 ],
 "metadata": {
  "kernelspec": {
   "display_name": "Python 3 (ipykernel)",
   "language": "python",
   "name": "python3"
  },
  "language_info": {
   "codemirror_mode": {
    "name": "ipython",
    "version": 3
   },
   "file_extension": ".py",
   "mimetype": "text/x-python",
   "name": "python",
   "nbconvert_exporter": "python",
   "pygments_lexer": "ipython3",
   "version": "3.9.7"
  }
 },
 "nbformat": 4,
 "nbformat_minor": 5
}
